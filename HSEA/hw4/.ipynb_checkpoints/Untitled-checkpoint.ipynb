{
 "cells": [
  {
   "cell_type": "code",
   "execution_count": 1,
   "id": "cbea40b6",
   "metadata": {},
   "outputs": [],
   "source": [
    "from libsvm.svmutil import *"
   ]
  },
  {
   "cell_type": "code",
   "execution_count": 3,
   "id": "de05d2c5",
   "metadata": {},
   "outputs": [],
   "source": [
    "y, x = svm_read_problem(\"./sonar_scale\")"
   ]
  },
  {
   "cell_type": "code",
   "execution_count": 9,
   "id": "3babfb09",
   "metadata": {},
   "outputs": [],
   "source": [
    "Y,X = svm_read_problem(\"./sonar_scale.txt\")"
   ]
  }
 ],
 "metadata": {
  "kernelspec": {
   "display_name": "Python 3",
   "language": "python",
   "name": "python3"
  },
  "language_info": {
   "codemirror_mode": {
    "name": "ipython",
    "version": 3
   },
   "file_extension": ".py",
   "mimetype": "text/x-python",
   "name": "python",
   "nbconvert_exporter": "python",
   "pygments_lexer": "ipython3",
   "version": "3.8.8"
  }
 },
 "nbformat": 4,
 "nbformat_minor": 5
}
